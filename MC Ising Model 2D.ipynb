{
 "cells": [
  {
   "cell_type": "markdown",
   "metadata": {},
   "source": [
    "# Monte Carlo Ising Model 2D"
   ]
  },
  {
   "cell_type": "code",
   "execution_count": 1,
   "metadata": {
    "collapsed": false
   },
   "outputs": [],
   "source": [
    "import numpy as np\n",
    "from numba import jit\n",
    "import math as math\n",
    "import matplotlib.pyplot as plt\n",
    "import statistics as stats\n",
    "from mpl_toolkits.mplot3d import Axes3D\n",
    "from itertools import product\n",
    "from random import randint\n",
    "from scipy.optimize import curve_fit\n",
    "from scipy import stats\n",
    "\n",
    "import timeit\n",
    "%matplotlib inline"
   ]
  },
  {
   "cell_type": "markdown",
   "metadata": {},
   "source": [
    "# Constants"
   ]
  },
  {
   "cell_type": "code",
   "execution_count": 13,
   "metadata": {
    "collapsed": false
   },
   "outputs": [],
   "source": [
    "\n",
    "J=1 #Strength of interaction (Joules)\n",
    "K = 1 #Joules per kelvin\n",
    "\n",
    "#Monte Carlo steps\n",
    "mcsteps=50\n",
    "\n"
   ]
  },
  {
   "cell_type": "code",
   "execution_count": 3,
   "metadata": {
    "collapsed": false
   },
   "outputs": [],
   "source": [
    "#comments\n",
    "@jit\n",
    "def update(grid,size_grid,T):\n",
    "    # Monte carlo loop\n",
    "    for b in range(mcsteps):\n",
    "        m[b]=np.sum(grid)/(size_grid)**2  # average of the magnetization(magnetization per spin)\n",
    "#         m[b]=np.sum(grid)\n",
    "    # Metropolis loop      \n",
    "        for i in range(msteps): # equilibration steps to led the system relax after change one step of the temperature\n",
    "            h=np.rint((size_grid-1)*np.random.rand())\n",
    "            k=np.rint((size_grid-1)*np.random.rand())\n",
    "            # calculating the number of neighbours of each cell\n",
    "            neighbours=grid[np.mod(h+1,size_grid),k]+grid[np.mod(h-1,size_grid),k]+grid[h,np.mod(k+1,size_grid)]+grid[h,np.mod(k-1,size_grid)]       \n",
    "\n",
    "            # Computing the halmiltonian for this spin j,k\n",
    "            H[i]=J*grid[h,k]*neighbours\n",
    "            #Calculating the change in energy by flipping a spin\n",
    "            DeltaE=2*H[i]*J\n",
    "            #Calculate the transition probabilities\n",
    "            p_trans = np.exp(-DeltaE*1/(T))\n",
    "            #Decide which transition will occur\n",
    "            transitions = (np.random.rand() < p_trans) * (-2) + 1\n",
    "\n",
    "            #Perform the transitions\n",
    "            grid[h,k] *= transitions\n",
    "            \n",
    "       \n",
    "        \n",
    "    return grid,H,m\n"
   ]
  },
  {
   "cell_type": "code",
   "execution_count": 4,
   "metadata": {
    "collapsed": false
   },
   "outputs": [],
   "source": [
    "#comments\n",
    "def simulation(grid,H,T,size_grid,m):\n",
    "\n",
    "    # Energy per spin. factor of a half is introduced in order to account for the spins being counted twice. \n",
    "    E=-np.sum(H)/((size_grid)**2 )\n",
    "\n",
    "    # Specific heat per site in units of J/K (eq 7.28 book)(k/J*tau*T=1/kT*T)\n",
    "    cv=(np.mean(H*H)-np.mean(np.absolute(H))*np.mean(np.absolute(H)))/T**2\n",
    "    \n",
    "    # Susceptibility per spin (first value as the initial, which is zero)\n",
    "    phi=(np.mean(m*m)-np.mean(np.absolute(m))*np.mean(np.absolute(m)))/T  # (<M^2>-<absM><absM>)/T\n",
    "    return cv, E, phi\n",
    "\n"
   ]
  },
  {
   "cell_type": "code",
   "execution_count": 5,
   "metadata": {
    "collapsed": false
   },
   "outputs": [],
   "source": [
    "# Function that computes the critical exponents at diffrent lattice sizes of one magnitud of interest\n",
    "def critical(size_grid,A,b):\n",
    "    ratio=np.zeros(shape=(len(size_grid),))\n",
    "    ratiocv=np.zeros(shape=(len(size_grid),))\n",
    "    for i in range(len(size_grid)):\n",
    "        k=np.log(np.amax(A[:,i]))\n",
    "        kcv=np.amax(A[:,i])\n",
    "        l=np.log(size_grid)\n",
    "        ratio[i]=k/l[i]\n",
    "        ratiocv[i]=kcv/l[i]\n",
    "    \n",
    "    z=np.polyfit(l,ratio,1)\n",
    "    print(z)\n",
    "    p = np.poly1d([z[0],z[1]])\n",
    "    slope=z[0]\n",
    "#     slope, intercept, r_value, p_value, std_err = stats.linregress(p, ratiocv)\n",
    "#     popt, pcov = curve_fit(np.poly1d, l, ratio)\n",
    "    crit=plt.figure(1)\n",
    "    phiplot=plt.scatter(l, ratio,label='Data points')\n",
    "    phiplot=plt.plot(l, p(l),label='Linear Fit'+  ',slope=%f'%(slope))\n",
    "#     plt.title('Ln of ' + str(b) + ' vs Ln of lattice size')\n",
    "    plt.title(str(b)+' vs Ln of Lattice size')\n",
    "    plt.xlabel('Ln lattice sizes')\n",
    "    plt.ylabel('Data points and a polynomio fit')\n",
    "    legend = plt.legend(loc=4,fontsize=9)\n",
    "    return slope,crit"
   ]
  },
  {
   "cell_type": "code",
   "execution_count": 6,
   "metadata": {
    "collapsed": false
   },
   "outputs": [],
   "source": [
    "def exact2D(T):\n",
    "    a=math.exp(8/T)\n",
    "    z=2*a+12+2/a\n",
    "    Emean=-(16*a-16/a)/z\n",
    "    Esqmean=(128*a+128/a)/z\n",
    "    absMmean=(8*a+16)/z\n",
    "    Msqmean=(32*a+32)/z\n",
    "    cvexact2D=(Esqmean-Emean**2)/T**2\n",
    "    phiexact2D=(Msqmean-absMmean**2)/(T*4)\n",
    "    Tc=2.269\n",
    "    if T<Tc:\n",
    "        Mexact=math.pow((1-math.pow(math.sinh(math.log(1+math.sqrt(2))*Tc/T),-4)),1/8)\n",
    "    else:\n",
    "        Mexact=0                    \n",
    "    return cvexact2D,phiexact2D,Mexact,Emean"
   ]
  },
  {
   "cell_type": "code",
   "execution_count": 10,
   "metadata": {
    "collapsed": true
   },
   "outputs": [],
   "source": [
    "# Plotting the observables along with the different sizes of the grid that have been taken\n",
    "#comments\n",
    "# input\n",
    "# output\n",
    "\n",
    "# magnitud of interest\n",
    "def plotting(A,size_grid,b):\n",
    "    colors = ['aquamarine', 'c', 'y', 'm', 'r']\n",
    "#     A[0,:]=-1\n",
    "    figA=plt.figure(1)\n",
    "    plt.subplot(1,1,1)\n",
    "    plt.title(str(b) + ' vs Temp')# put the name of A in the legend\n",
    "    plt.xlabel('Temperature[J/k]', fontsize=10)\n",
    "    plt.ylabel(str(b),fontsize=10)\n",
    "    \n",
    "    for i in range(len(size_grid)):\n",
    "        mylegend=['L=6','L=12','L=18','L=24']# built this vector according size_grid\n",
    "#         mylegend=['L=50']\n",
    "        phiplot=plt.scatter(T, A[:,i], color=colors[i],label=mylegend[i])\n",
    "        phiplot=plt.plot(T, A[:,i], color=colors[i])\n",
    "        legend = plt.legend(loc=4)\n",
    "    plt.show()  \n",
    "    \n",
    "    return figA"
   ]
  },
  {
   "cell_type": "markdown",
   "metadata": {},
   "source": [
    "# Ising and observables"
   ]
  },
  {
   "cell_type": "code",
   "execution_count": 21,
   "metadata": {
    "collapsed": false
   },
   "outputs": [
    {
     "name": "stderr",
     "output_type": "stream",
     "text": [
      "C:\\Users\\Bas\\Anaconda3\\lib\\site-packages\\ipykernel\\__main__.py:21: DeprecationWarning: using a non-integer number instead of an integer will result in an error in the future\n"
     ]
    }
   ],
   "source": [
    "# Script to run the Metropolis algorithm and calculate the observables\n",
    "# size_grid=np.array([2,6,10,15])\n",
    "# size_grid=np.array([50])\n",
    "size_grid=np.array([6,12,18,24,30,35])\n",
    "T=np.linspace(0.5,10,100) #temperature\n",
    "msteps=np.zeros(shape=(len(size_grid),))##Metropolis steps\n",
    "xaxis = np.linspace(0,len(T),mcsteps)\n",
    "cv=np.zeros(shape=(len(T),len(size_grid))) #init heat capacity\n",
    "M=np.zeros(shape=(len(T),len(size_grid))) #init magnetization for plotting\n",
    "phi=np.zeros(shape=(len(T),len(size_grid))) # init susceptibility\n",
    "E=np.zeros(shape=(len(T),len(size_grid))) # init Energy\n",
    "m=np.zeros(shape=(mcsteps))# init average magnetization\n",
    "\n",
    "for j in range(len(size_grid)):\n",
    "    msteps=size_grid[j]*size_grid[j]\n",
    "    H=np.zeros(shape=(msteps,)) #init hamiltonian\n",
    "    grid=np.zeros(shape=(size_grid[j],size_grid[j]))\n",
    "    grid+=1\n",
    "    for t in range(len(T)):\n",
    "        cv[t,j],E[t,j],phi[t,j]=simulation(grid,H,T[t],size_grid[j],m)\n",
    "        grid,H,m=update(grid,size_grid[j],T[t])\n",
    "        M[t,j]=m[len(m)-1]\n",
    "\n",
    "        \n",
    "\n",
    "   \n",
    "   \n",
    "   "
   ]
  },
  {
   "cell_type": "markdown",
   "metadata": {
    "collapsed": false
   },
   "source": [
    "# Saving observables\n",
    "\n"
   ]
  },
  {
   "cell_type": "code",
   "execution_count": 22,
   "metadata": {
    "collapsed": false
   },
   "outputs": [],
   "source": [
    "heat=np.savetxt('G:\\Maestria\\Computational Physics\\Project 2 Monte Carlo Ising Model\\observables savings\\cv_latt2.txt', cv, delimiter='\\n') \n",
    "    \n",
    "ene=np.savetxt('G:\\Maestria\\Computational Physics\\Project 2 Monte Carlo Ising Model\\observables savings\\E_latt2.txt', E, delimiter='\\n')  \n",
    "    \n",
    "mag=np.savetxt('G:\\Maestria\\Computational Physics\\Project 2 Monte Carlo Ising Model\\observables savings\\M_latt2.txt', M, delimiter='\\n')  \n",
    "\n",
    "sus=np.savetxt('G:\\Maestria\\Computational Physics\\Project 2 Monte Carlo Ising Model\\observables savings\\phi_latt2.txt', phi, delimiter='\\n')  \n",
    "            \n",
    "                "
   ]
  },
  {
   "cell_type": "code",
   "execution_count": 18,
   "metadata": {
    "collapsed": false
   },
   "outputs": [],
   "source": [
    "# Function to read the data of the observables as arrays\n",
    "# size_grid=np.array([2,6,10,15])\n",
    "#size_grid=np.array([50])\n",
    "size_grid=np.array([6,12,18,24])\n",
    "def readdata(data,size_grid):\n",
    "    t=len(data)/len(size_grid)\n",
    "    t1=np.zeros(shape=(t,))\n",
    "    a=np.zeros(shape=(len(data)/len(size_grid),len(size_grid)))\n",
    "    for i in range(len(t1)):\n",
    "        a[i,:]=data[i*len(size_grid):i*len(size_grid)+len(size_grid)]\n",
    "    return a"
   ]
  },
  {
   "cell_type": "code",
   "execution_count": 19,
   "metadata": {
    "collapsed": false
   },
   "outputs": [
    {
     "name": "stderr",
     "output_type": "stream",
     "text": [
      "C:\\Users\\Bas\\Anaconda3\\lib\\site-packages\\ipykernel\\__main__.py:7: DeprecationWarning: using a non-integer number instead of an integer will result in an error in the future\n",
      "C:\\Users\\Bas\\Anaconda3\\lib\\site-packages\\ipykernel\\__main__.py:8: DeprecationWarning: using a non-integer number instead of an integer will result in an error in the future\n"
     ]
    }
   ],
   "source": [
    "phi=np.loadtxt('G:\\Maestria\\Computational Physics\\Project 2 Monte Carlo Ising Model\\observables savings\\phi_latt2.txt')\n",
    "phi=readdata(phi,size_grid)\n",
    "# len(cv)\n"
   ]
  },
  {
   "cell_type": "markdown",
   "metadata": {},
   "source": [
    "# Exact observables"
   ]
  },
  {
   "cell_type": "code",
   "execution_count": null,
   "metadata": {
    "collapsed": false
   },
   "outputs": [],
   "source": [
    "\n",
    "T=np.linspace(0.5,10,100) #temperature\n",
    "cvexact2D=np.zeros(shape=(len(T),))\n",
    "phiexact2D=np.zeros(shape=(len(T),))\n",
    "Mexact=np.zeros(shape=(len(T),))\n",
    "phionsa=np.zeros(shape=(len(T),))\n",
    "Emean=np.zeros(shape=(len(T),))\n",
    "for i in range(len(T)):\n",
    "    cvexact2D[i],phiexact2D[i],Mexact[i],Emean[i]=exact2D(T[i])\n",
    "    phionsa[i]=(np.mean(Mexact*Mexact)-np.mean(np.absolute(Mexact))*np.mean(np.absolute(Mexact)))/T[i]\n",
    "# t=M[:,3]\n",
    "# print(t)\n",
    "# ind=np.where(t<0)\n",
    "# t[ind]=0\n",
    "mc=plt.figure(1)\n",
    "E[0]=-4\n",
    "plt.scatter(T,M,color='r',label='Data points')\n",
    "plt.plot(T,M,color='r')\n",
    "# plt.title('Susceptibility vs Temperature 50X50 grid')\n",
    "# y.limits([0,0.007])\n",
    "# plt.xlabel('Temperature [J/k]')\n",
    "# plt.ylabel('Susceptibility')\n",
    "\n",
    "# plt.legend(loc=1)\n",
    "\n",
    "# ex=plt.figure(2)\n",
    "plt.scatter(T,Mexact,color='b',label='Onsager solution')\n",
    "plt.plot(T,Mexact,color='b')\n",
    "plt.title('Magnetization:Onsager Solution vs MC')\n",
    "plt.xlabel('Temperature [J/k]')\n",
    "plt.ylabel('Magnetization')\n",
    "plt.legend(loc=1)"
   ]
  },
  {
   "cell_type": "code",
   "execution_count": null,
   "metadata": {
    "collapsed": true
   },
   "outputs": [],
   "source": [
    "# mc.savefig('G:\\Maestria\\Computational Physics\\Project 2 Monte Carlo Ising Model\\Pictures results\\mc vs exact\\m_1000MC.png')\n",
    "mc.savefig('G:\\Maestria\\Computational Physics\\Project 2 Monte Carlo Ising Model\\Pictures results\\mc vs exact\\M_exact vs mc_50X50.png')"
   ]
  },
  {
   "cell_type": "markdown",
   "metadata": {
    "collapsed": true
   },
   "source": [
    "# Critical exponents"
   ]
  },
  {
   "cell_type": "code",
   "execution_count": 20,
   "metadata": {
    "collapsed": false
   },
   "outputs": [
    {
     "name": "stdout",
     "output_type": "stream",
     "text": [
      "[ 0.24912127 -2.24281544]\n"
     ]
    },
    {
     "data": {
      "image/png": "[encoded data removed]",
      "text/plain": [
       "<matplotlib.figure.Figure at 0xb90abe0>"
      ]
     },
     "metadata": {},
     "output_type": "display_data"
    }
   ],
   "source": [
    "# phi=np.loadtxt('G:\\Maestria\\Computational Physics\\Project 2 Monte Carlo Ising Model\\observables savings\\phi.txt')\n",
    "a=M[0:20]\n",
    "a=0.5\n",
    "slope,crit=critical(size_grid,phi,'Susceptibility')\n",
    "# print(err)\n",
    "# crit.savefig('G:\\Maestria\\Computational Physics\\Project 2 Monte Carlo Ising Model\\Pictures results\\criticality\\phi_50MC_20T points.png')"
   ]
  },
  {
   "cell_type": "markdown",
   "metadata": {},
   "source": [
    "# Plotting\n"
   ]
  },
  {
   "cell_type": "code",
   "execution_count": 23,
   "metadata": {
    "collapsed": false
   },
   "outputs": [
    {
     "ename": "IndexError",
     "evalue": "list index out of range",
     "output_type": "error",
     "traceback": [
      "\u001b[1;31m---------------------------------------------------------------------------\u001b[0m",
      "\u001b[1;31mIndexError\u001b[0m                                Traceback (most recent call last)",
      "\u001b[1;32m<ipython-input-23-d040678af6b9>\u001b[0m in \u001b[0;36m<module>\u001b[1;34m()\u001b[0m\n\u001b[0;32m      2\u001b[0m \u001b[1;33m\u001b[0m\u001b[0m\n\u001b[0;32m      3\u001b[0m \u001b[1;33m\u001b[0m\u001b[0m\n\u001b[1;32m----> 4\u001b[1;33m \u001b[0mfiga\u001b[0m\u001b[1;33m=\u001b[0m\u001b[0mplotting\u001b[0m\u001b[1;33m(\u001b[0m\u001b[0mphi\u001b[0m\u001b[1;33m,\u001b[0m\u001b[0msize_grid\u001b[0m\u001b[1;33m,\u001b[0m\u001b[1;34m'phi'\u001b[0m\u001b[1;33m)\u001b[0m\u001b[1;33m\u001b[0m\u001b[0m\n\u001b[0m\u001b[0;32m      5\u001b[0m \u001b[1;31m# figa.savefig('G:\\Maestria\\Computational Physics\\Project 2 Monte Carlo Ising Model\\Pictures results\\E(50 MC).png')\u001b[0m\u001b[1;33m\u001b[0m\u001b[1;33m\u001b[0m\u001b[0m\n",
      "\u001b[1;32m<ipython-input-10-f1405b1b2c94>\u001b[0m in \u001b[0;36mplotting\u001b[1;34m(A, size_grid, b)\u001b[0m\n\u001b[0;32m     17\u001b[0m         \u001b[0mmylegend\u001b[0m\u001b[1;33m=\u001b[0m\u001b[1;33m[\u001b[0m\u001b[1;34m'L=6'\u001b[0m\u001b[1;33m,\u001b[0m\u001b[1;34m'L=12'\u001b[0m\u001b[1;33m,\u001b[0m\u001b[1;34m'L=18'\u001b[0m\u001b[1;33m,\u001b[0m\u001b[1;34m'L=24'\u001b[0m\u001b[1;33m]\u001b[0m\u001b[1;31m# built this vector according size_grid\u001b[0m\u001b[1;33m\u001b[0m\u001b[0m\n\u001b[0;32m     18\u001b[0m \u001b[1;31m#         mylegend=['L=50']\u001b[0m\u001b[1;33m\u001b[0m\u001b[1;33m\u001b[0m\u001b[0m\n\u001b[1;32m---> 19\u001b[1;33m         \u001b[0mphiplot\u001b[0m\u001b[1;33m=\u001b[0m\u001b[0mplt\u001b[0m\u001b[1;33m.\u001b[0m\u001b[0mscatter\u001b[0m\u001b[1;33m(\u001b[0m\u001b[0mT\u001b[0m\u001b[1;33m,\u001b[0m \u001b[0mA\u001b[0m\u001b[1;33m[\u001b[0m\u001b[1;33m:\u001b[0m\u001b[1;33m,\u001b[0m\u001b[0mi\u001b[0m\u001b[1;33m]\u001b[0m\u001b[1;33m,\u001b[0m \u001b[0mcolor\u001b[0m\u001b[1;33m=\u001b[0m\u001b[0mcolors\u001b[0m\u001b[1;33m[\u001b[0m\u001b[0mi\u001b[0m\u001b[1;33m]\u001b[0m\u001b[1;33m,\u001b[0m\u001b[0mlabel\u001b[0m\u001b[1;33m=\u001b[0m\u001b[0mmylegend\u001b[0m\u001b[1;33m[\u001b[0m\u001b[0mi\u001b[0m\u001b[1;33m]\u001b[0m\u001b[1;33m)\u001b[0m\u001b[1;33m\u001b[0m\u001b[0m\n\u001b[0m\u001b[0;32m     20\u001b[0m         \u001b[0mphiplot\u001b[0m\u001b[1;33m=\u001b[0m\u001b[0mplt\u001b[0m\u001b[1;33m.\u001b[0m\u001b[0mplot\u001b[0m\u001b[1;33m(\u001b[0m\u001b[0mT\u001b[0m\u001b[1;33m,\u001b[0m \u001b[0mA\u001b[0m\u001b[1;33m[\u001b[0m\u001b[1;33m:\u001b[0m\u001b[1;33m,\u001b[0m\u001b[0mi\u001b[0m\u001b[1;33m]\u001b[0m\u001b[1;33m,\u001b[0m \u001b[0mcolor\u001b[0m\u001b[1;33m=\u001b[0m\u001b[0mcolors\u001b[0m\u001b[1;33m[\u001b[0m\u001b[0mi\u001b[0m\u001b[1;33m]\u001b[0m\u001b[1;33m)\u001b[0m\u001b[1;33m\u001b[0m\u001b[0m\n\u001b[0;32m     21\u001b[0m         \u001b[0mlegend\u001b[0m \u001b[1;33m=\u001b[0m \u001b[0mplt\u001b[0m\u001b[1;33m.\u001b[0m\u001b[0mlegend\u001b[0m\u001b[1;33m(\u001b[0m\u001b[0mloc\u001b[0m\u001b[1;33m=\u001b[0m\u001b[1;36m4\u001b[0m\u001b[1;33m)\u001b[0m\u001b[1;33m\u001b[0m\u001b[0m\n",
      "\u001b[1;31mIndexError\u001b[0m: list index out of range"
     ]
    },
    {
     "data": {
      "image/png": "[encoded data removed]",
      "text/plain": [
       "<matplotlib.figure.Figure at 0xba8e710>"
      ]
     },
     "metadata": {},
     "output_type": "display_data"
    }
   ],
   "source": [
    "T=np.linspace(0.5,10,100) #temperature\n",
    "\n",
    "\n",
    "figa=plotting(phi,size_grid,'phi')\n",
    "# figa.savefig('G:\\Maestria\\Computational Physics\\Project 2 Monte Carlo Ising Model\\Pictures results\\E(50 MC).png')"
   ]
  }
 ],
 "metadata": {
  "kernelspec": {
   "display_name": "Python 3",
   "language": "python",
   "name": "python3"
  },
  "language_info": {
   "codemirror_mode": {
    "name": "ipython",
    "version": 3
   },
   "file_extension": ".py",
   "mimetype": "text/x-python",
   "name": "python",
   "nbconvert_exporter": "python",
   "pygments_lexer": "ipython3",
   "version": "3.5.1"
  }
 },
 "nbformat": 4,
 "nbformat_minor": 0
}
