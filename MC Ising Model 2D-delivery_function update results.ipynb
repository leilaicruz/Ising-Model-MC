{
 "cells": [
  {
   "cell_type": "markdown",
   "metadata": {},
   "source": [
    "# Monte Carlo Ising Model 2D"
   ]
  },
  {
   "cell_type": "code",
   "execution_count": 2,
   "metadata": {
    "collapsed": false
   },
   "outputs": [],
   "source": [
    "import numpy as np\n",
    "from numba import jit\n",
    "import math as math\n",
    "import matplotlib.pyplot as plt\n",
    "import statistics as stats\n",
    "from mpl_toolkits.mplot3d import Axes3D\n",
    "from itertools import product\n",
    "from random import randint\n",
    "from scipy import stats\n",
    "\n",
    "import timeit\n",
    "%matplotlib inline"
   ]
  },
  {
   "cell_type": "markdown",
   "metadata": {},
   "source": [
    "# Constants"
   ]
  },
  {
   "cell_type": "code",
   "execution_count": 15,
   "metadata": {
    "collapsed": false
   },
   "outputs": [],
   "source": [
    "\n",
    "J=1 #Strength of interaction (Joules)\n",
    "K = 1 #Joules per kelvin\n",
    "\n",
    "\n",
    "size_grid=np.array([2,6,10,15])# Different sizes of grid to be used\n",
    "T=np.linspace(0.5,10,20) #Array of temperature to be used\n"
   ]
  },
  {
   "cell_type": "code",
   "execution_count": 3,
   "metadata": {
    "collapsed": false
   },
   "outputs": [],
   "source": [
    "# This function performs the clusterization of the lattice according  Hoshen-Kopelman algorithm.\n",
    "# Inputs: \n",
    "#         grid - the grid that is going to be used as an square matrix of ones if previously the set of spins are magnetized\n",
    "#         size_grid - the size of the grid, this can be an array of numbers indicating the  \n",
    "#                     different sizes of the square grid that are going to be analyzed\n",
    "#         T- An array of temperatures\n",
    "# Outputs:\n",
    "#        grid- Update grid \n",
    "#        cluster-Array of the same size as grid of labels indicating spins aligned in the same direction using the \n",
    "#               Hoshen-Kopelman algorthim\n",
    "#        H-Array with the Hamiltonian per each spin site\n",
    "#        m-Magnetization all over the grid, a number each temperature and lattice size\n",
    "\n",
    "def hk_cluster(grid,size_grid,T):\n",
    "    \n",
    "    beta = 1/T\n",
    "    largest_label = 0\n",
    "    \n",
    "    \n",
    "# Run over the whole lattice and identify groups of neighbours spins of the same sign to create different cluster with them\n",
    "#         for i in range(cluster_steps):\n",
    "            \n",
    "\n",
    "for i in range(cluster_steps):\n",
    "    m[i]=np.sum(grid)/(size_grid)**2\n",
    "    for x in range(size_grid):\n",
    "        for y in range(size_grid):\n",
    "        top = grid[np.mod(x-1,size_grid),y]\n",
    "        left = grid[x,np.mod(y-1,size_grid)]\n",
    "        # Energy calculation with the neighbours spins, a hamiltonian for each site of spins\n",
    "        H[x,y]=J*grid[x,y]*top*left\n",
    "        DeltaE=2*H[x,y]*J\n",
    "        probability = 1 - np.exp(-beta*DeltaE)\n",
    "        if( (left != grid[x,y]) and (top != grid[x,y]) ):\n",
    "            largest_label += 1\n",
    "            cluster[x,y] = largest_label\n",
    "        elif( (left == grid[x,y]) and  (top != grid[x,y]) ):\n",
    "            if (np.random.rand() < probability):\n",
    "                cluster[x,y] = cluster[x,np.mod(y-1,size_grid)]\n",
    "        elif( (top == grid[x,y]) and  (left != grid[x,y]) ):\n",
    "            if (np.random.rand() < probability):\n",
    "                cluster[x,y] = cluster[np.mod(x-1,size_grid),y]\n",
    "        elif( (top == grid[x,y]) and  (left == grid[x,y]) ):\n",
    "            cluster[x,y] = np.amin(cluster[np.mod(x-1,size_grid),y], cluster[x,np.mod(y-1,size_grid)])\n",
    "\n",
    "        if (transitions = (np.random.rand() < probability * (-2) + 1):\n",
    "            grid[x,y]*= transitions\n",
    "                    \n",
    "                \n",
    "                    \n",
    "                    \n",
    "\n",
    "            \n",
    "        \n",
    "    return grid,cluster,H,m\n"
   ]
  },
  {
   "cell_type": "code",
   "execution_count": 7,
   "metadata": {
    "collapsed": false
   },
   "outputs": [],
   "source": [
    "#comments\n",
    "@jit\n",
    "def update(grid,size_grid,T):\n",
    "    # Monte carlo loop\n",
    "    for b in range(mcsteps):\n",
    "        m[b]=np.sum(grid)/(size_grid)**2  # average of the magnetization(magnetization per spin)\n",
    "#         m[b]=np.sum(grid)\n",
    "    # Metropolis loop      \n",
    "        for i in range(msteps): # equilibration steps to led the system relax after change one step of the temperature\n",
    "            h=np.rint((size_grid-1)*np.random.rand())\n",
    "            k=np.rint((size_grid-1)*np.random.rand())\n",
    "            # calculating the number of neighbours of each cell\n",
    "            neighbours=grid[np.mod(h+1,size_grid),k]+grid[np.mod(h-1,size_grid),k]+grid[h,np.mod(k+1,size_grid)]+grid[h,np.mod(k-1,size_grid)]       \n",
    "\n",
    "            # Computing the halmiltonian for this spin j,k\n",
    "            H[i]=J*grid[h,k]*neighbours\n",
    "            #Calculating the change in energy by flipping a spin\n",
    "            DeltaE=2*H[i]*J\n",
    "            #Calculate the transition probabilities\n",
    "            p_trans = np.exp(-DeltaE*1/(T))\n",
    "            #Decide which transition will occur\n",
    "            transitions = (np.random.rand() < p_trans) * (-2) + 1\n",
    "\n",
    "            #Perform the transitions\n",
    "            grid[h,k] *= transitions\n",
    "            \n",
    "       \n",
    "        \n",
    "    return grid,H,m\n"
   ]
  },
  {
   "cell_type": "code",
   "execution_count": 8,
   "metadata": {
    "collapsed": false
   },
   "outputs": [],
   "source": [
    "#comments\n",
    "def simulation(grid,H,T,size_grid,m):\n",
    "\n",
    "    # Energy per spin. factor of a half is introduced in order to account for the spins being counted twice. \n",
    "    E=-np.sum(H)/((size_grid)**2 )\n",
    "\n",
    "    # Specific heat per site in units of J/K (eq 7.28 book)(k/J*tau*T=1/kT*T)\n",
    "    cv=(np.mean(H*H)-np.mean(np.absolute(H))*np.mean(np.absolute(H)))/T**2\n",
    "    \n",
    "    # Susceptibility per spin (first value as the initial, which is zero)\n",
    "    phi=(np.mean(m*m)-np.mean(np.absolute(m))*np.mean(np.absolute(m)))/T  # (<M^2>-<absM><absM>)/T\n",
    "    return cv, E, phi\n",
    "\n"
   ]
  },
  {
   "cell_type": "code",
   "execution_count": 125,
   "metadata": {
    "collapsed": false
   },
   "outputs": [],
   "source": [
    "# Function that computes the critical exponents at different lattice sizes of one magnitud of interest.\n",
    "#inputs:\n",
    "#       size_grid- Different sizes of the grid used\n",
    "#       A- array of size of temperatures x size of size_grid of the magnitud to compute the critical exponent\n",
    "#       b- string with the name of the magnitud, they can be: Magnetization,Heat Capacity,Susceptibility\n",
    "#       T- array of the temperatures used\n",
    "#outputs\n",
    "def critical(size_grid,A,b,T):\n",
    "    ratio=np.zeros(shape=(len(size_grid),))\n",
    "    t=len(T)\n",
    "    if (str(b)=='Magnetization'):\n",
    "        for j in range(len(size_grid)):\n",
    "            c=A[:]\n",
    "            c[0:t/3,j]=0.8\n",
    "    if (str(b)=='Heat Capacity'):\n",
    "        ratiocv=np.zeros(shape=(len(size_grid),))\n",
    "        for i in range(len(size_grid)):\n",
    "            kcv=np.amax(A[:,i]) \n",
    "            l=np.log(size_grid)\n",
    "            ratiocv[i]=kcv/l[i]\n",
    "    \n",
    "        z=np.polyfit(l,ratiocv,1)\n",
    "        p = np.poly1d([z[0],z[1]])\n",
    "        slope=z[0]\n",
    "        crit=plt.figure(1)\n",
    "        phiplot=plt.scatter(l, ratiocv,label='Data points')\n",
    "        phiplot=plt.plot(l, p(l),label='Linear Fit'+  ',slope=%f'%(slope))\n",
    "        plt.title(str(b)+' vs Ln of Lattice size')\n",
    "        \n",
    "    elif (str(b)!='Heat Capacity' ):\n",
    "        for i in range(len(size_grid)):\n",
    "            k=np.log(np.amax(A[:,i]))\n",
    "            l=np.log(size_grid)\n",
    "            ratio[i]=k/l[i]\n",
    "        \n",
    "    \n",
    "        z=np.polyfit(l,ratio,1)\n",
    "        p = np.poly1d([z[0],z[1]])\n",
    "        slope=z[0]\n",
    "        crit=plt.figure(1)\n",
    "        phiplot=plt.scatter(l, ratio,label='Data points')\n",
    "        phiplot=plt.plot(l, p(l),label='Linear Fit'+  ',slope=%f'%(slope))\n",
    "        plt.title('Ln of ' + str(b) + ' vs Ln of lattice size')\n",
    "\n",
    "    plt.xlabel('Ln lattice sizes')\n",
    "    plt.ylabel('Data points and a polynomio fit')\n",
    "    legend = plt.legend(loc=4,fontsize=9)\n",
    "    return slope,crit"
   ]
  },
  {
   "cell_type": "code",
   "execution_count": 12,
   "metadata": {
    "collapsed": false
   },
   "outputs": [],
   "source": [
    "# Function that compute the exact solution according Onsanger for an infinite lattice to compare with my solution\n",
    "# input :\n",
    "#       T- array of teh temperatures used\n",
    "# output:\n",
    "#      Mexact- array of the exact magnetization computed by Onsager\n",
    "def exact2D(T):\n",
    "    Tc=2.269\n",
    "    # Onsager solution \n",
    "    if T<Tc:\n",
    "        Mexact=math.pow((1-math.pow(math.sinh(math.log(1+math.sqrt(2))*Tc/T),-4)),1/8) \n",
    "    else:\n",
    "        Mexact=0                    \n",
    "    return Mexact"
   ]
  },
  {
   "cell_type": "code",
   "execution_count": 116,
   "metadata": {
    "collapsed": true
   },
   "outputs": [],
   "source": [
    "# Plotting the observables along with the different sizes of the grid that have been taken\n",
    "#comments\n",
    "# input:\n",
    "#       A-magnitud to be plotted\n",
    "#       size_grid- Array of the differnt lattices sizes used\n",
    "#       b- string with the name of the magnitud in A\n",
    "# output:\n",
    "#       figA-handle for the plotting\n",
    "\n",
    "\n",
    "def plotting(A,size_grid,b):\n",
    "    colors = ['aquamarine', 'c', 'y', 'm', 'r']\n",
    "    figA=plt.figure(1)\n",
    "    plt.subplot(1,1,1)\n",
    "    plt.title(str(b) + ' vs Temp')\n",
    "    plt.xlabel('Temperature[J/k]', fontsize=10)\n",
    "    plt.ylabel(str(b),fontsize=10)\n",
    "    \n",
    "    for i in range(len(size_grid)):\n",
    "        mylegend=['L=2','L=6','L=10','L=15']# built this vector according size_grid\n",
    "#         mylegend=['L=50']\n",
    "        phiplot=plt.scatter(T, A[:,i], color=colors[i],label=mylegend[i])\n",
    "        phiplot=plt.plot(T, A[:,i], color=colors[i])\n",
    "        legend = plt.legend(loc=4)\n",
    "    plt.show()  \n",
    "    \n",
    "    return figA"
   ]
  },
  {
   "cell_type": "markdown",
   "metadata": {},
   "source": [
    "# Ising and observables using update function"
   ]
  },
  {
   "cell_type": "code",
   "execution_count": 114,
   "metadata": {
    "collapsed": false
   },
   "outputs": [
    {
     "name": "stderr",
     "output_type": "stream",
     "text": [
      "C:\\Users\\Bas\\Anaconda3\\lib\\site-packages\\ipykernel\\__main__.py:21: DeprecationWarning: using a non-integer number instead of an integer will result in an error in the future\n"
     ]
    }
   ],
   "source": [
    "# Script to run the Metropolis algorithm and calculate the observables\n",
    "# size_grid=np.array([2,6,10,15])\n",
    "# size_grid=np.array([50])\n",
    "#Monte Carlo steps\n",
    "mcsteps=50\n",
    "cv=np.zeros(shape=(len(T),len(size_grid))) #init heat capacity\n",
    "M=np.zeros(shape=(len(T),len(size_grid))) #init magnetization for plotting\n",
    "phi=np.zeros(shape=(len(T),len(size_grid))) # init susceptibility\n",
    "E=np.zeros(shape=(len(T),len(size_grid))) # init Energy\n",
    "m=np.zeros(shape=(mcsteps))# init average magnetization\n",
    "\n",
    "\n",
    "\n",
    "for j in range(len(size_grid)):\n",
    "    msteps=size_grid[j]*size_grid[j]\n",
    "    H=np.zeros(shape=(msteps),) #init hamiltonian\n",
    "    grid=np.zeros(shape=(size_grid[j],size_grid[j]))\n",
    "    grid+=1\n",
    "    for t in range(len(T)):\n",
    "        cv[t,j],E[t,j],phi[t,j]=simulation(grid,H,T[t],size_grid[j],m)\n",
    "        grid,H,m=update(grid,size_grid[j],T[t])\n",
    "        M[t,j]=m[len(m)-1]\n",
    "\n",
    "        \n",
    "\n",
    "   \n",
    "   \n",
    "   "
   ]
  },
  {
   "cell_type": "markdown",
   "metadata": {
    "collapsed": false
   },
   "source": [
    "# Ising observables using cluster_hk function"
   ]
  },
  {
   "cell_type": "code",
   "execution_count": null,
   "metadata": {
    "collapsed": true
   },
   "outputs": [],
   "source": [
    "# Script to run the Metropolis algorithm and calculate the observables\n",
    "# size_grid=np.array([2,6,10,15])\n",
    "# size_grid=np.array([50])\n",
    "cluster_steps=100\n",
    "cv=np.zeros(shape=(len(T),len(size_grid))) #init heat capacity\n",
    "M=np.zeros(shape=(len(T),len(size_grid))) #init magnetization for plotting\n",
    "phi=np.zeros(shape=(len(T),len(size_grid))) # init susceptibility\n",
    "E=np.zeros(shape=(len(T),len(size_grid))) # init Energy\n",
    "m=np.zeros(shape=(len(cluster_steps)))# init magnetization per each cluster steps\n",
    "\n",
    "for j in range(len(size_grid)):\n",
    "    msteps=size_grid[j]*size_grid[j]\n",
    "    H=np.zeros(shape=(len(size_grid),len(size_grid))) #init hamiltonian\n",
    "    cluster=np.zeros(shape=(size_grid[j],size_grid[j])) #init cluster\n",
    "    grid=np.zeros(shape=(size_grid[j],size_grid[j]))\n",
    "    grid+=1\n",
    "    for t in range(len(T)):\n",
    "        cv[t,j],E[t,j],phi[t,j]=simulation(grid,H,T[t],size_grid[j],m)\n",
    "        grid,cluster,H,m=hk_cluster(grid,size_grid[j],T[t])\n",
    "        M[t,j]=m[len(m)-1]"
   ]
  },
  {
   "cell_type": "markdown",
   "metadata": {
    "collapsed": false
   },
   "source": [
    "# Saving observables\n",
    "\n"
   ]
  },
  {
   "cell_type": "code",
   "execution_count": null,
   "metadata": {
    "collapsed": false
   },
   "outputs": [],
   "source": [
    "heat=np.savetxt('G:\\Maestria\\Computational Physics\\Project 2 Monte Carlo Ising Model\\observables savings\\cv_latt2.txt', cv, delimiter='\\n') \n",
    "    \n",
    "ene=np.savetxt('G:\\Maestria\\Computational Physics\\Project 2 Monte Carlo Ising Model\\observables savings\\E_latt2.txt', E, delimiter='\\n')  \n",
    "    \n",
    "mag=np.savetxt('G:\\Maestria\\Computational Physics\\Project 2 Monte Carlo Ising Model\\observables savings\\M_latt2.txt', M, delimiter='\\n')  \n",
    "\n",
    "sus=np.savetxt('G:\\Maestria\\Computational Physics\\Project 2 Monte Carlo Ising Model\\observables savings\\phi_latt2.txt', phi, delimiter='\\n')  \n",
    "            \n",
    "                "
   ]
  },
  {
   "cell_type": "code",
   "execution_count": null,
   "metadata": {
    "collapsed": false
   },
   "outputs": [],
   "source": [
    "# Function to read the data of the observables as arrays\n",
    "#inputs:\n",
    "#       data- output of the np.loadtxt of a file that you want to use previously saved as txt\n",
    "#       size_grid - Array of the sizes of the grid, is a global variable defined in the constants section\n",
    "#output:\n",
    "#      a- array with the data stored organized in the way where the number of columns is the size of the grid and the number of\n",
    "#         rows is the amount of temperatures used\n",
    "\n",
    "def readdata(data,size_grid):\n",
    "    t=len(data)/len(size_grid)\n",
    "    t1=np.zeros(shape=(t,))\n",
    "    a=np.zeros(shape=(len(data)/len(size_grid),len(size_grid)))\n",
    "    for i in range(len(t1)):\n",
    "        a[i,:]=data[i*len(size_grid):i*len(size_grid)+len(size_grid)]\n",
    "    return a"
   ]
  },
  {
   "cell_type": "code",
   "execution_count": null,
   "metadata": {
    "collapsed": false
   },
   "outputs": [],
   "source": [
    "# Load the variable you want to read from\n",
    "\n",
    "phi=np.loadtxt('G:\\Maestria\\Computational Physics\\Project 2 Monte Carlo Ising Model\\observables savings\\phi_latt2.txt')\n",
    "phi=readdata(phi,size_grid)\n",
    "\n"
   ]
  },
  {
   "cell_type": "markdown",
   "metadata": {},
   "source": [
    "# Exact observables"
   ]
  },
  {
   "cell_type": "code",
   "execution_count": 24,
   "metadata": {
    "collapsed": false
   },
   "outputs": [
    {
     "data": {
      "text/plain": [
       "<matplotlib.legend.Legend at 0xbb42c50>"
      ]
     },
     "execution_count": 24,
     "metadata": {},
     "output_type": "execute_result"
    },
    {
     "data": {
      "image/png": "[encoded data removed]",
      "text/plain": [
       "<matplotlib.figure.Figure at 0xba19198>"
      ]
     },
     "metadata": {},
     "output_type": "display_data"
    }
   ],
   "source": [
    "#Script to plot the exact results looking at the Onsager solution for the magnetization\n",
    "\n",
    "Mexact=np.zeros(shape=(len(T),))\n",
    "for i in range(len(T)):\n",
    "    Mexact[i]=exact2D(T[i])\n",
    "\n",
    "mc=plt.figure(1)\n",
    "plt.scatter(T,M,color='r',label='Data points')\n",
    "plt.plot(T,M,color='r')\n",
    "plt.scatter(T,Mexact,color='b',label='Onsager solution')\n",
    "plt.plot(T,Mexact,color='b')\n",
    "plt.title('Magnetization:Onsager Solution vs MC')\n",
    "plt.xlabel('Temperature [J/k]')\n",
    "plt.ylabel('Magnetization')\n",
    "plt.legend(loc=1)"
   ]
  },
  {
   "cell_type": "markdown",
   "metadata": {},
   "source": [
    "# Plotting"
   ]
  },
  {
   "cell_type": "code",
   "execution_count": 117,
   "metadata": {
    "collapsed": false
   },
   "outputs": [
    {
     "data": {
      "image/png": "[encoded data removed]",
      "text/plain": [
       "<matplotlib.figure.Figure at 0x9bb4c88>"
      ]
     },
     "metadata": {},
     "output_type": "display_data"
    }
   ],
   "source": [
    "figa=plotting(M,size_grid,'Magnetization')"
   ]
  },
  {
   "cell_type": "markdown",
   "metadata": {
    "collapsed": true
   },
   "source": [
    "# Critical exponents"
   ]
  },
  {
   "cell_type": "code",
   "execution_count": 127,
   "metadata": {
    "collapsed": false
   },
   "outputs": [
    {
     "data": {
      "image/png": "[encoded data removed]",
      "text/plain": [
       "<matplotlib.figure.Figure at 0x9cc8278>"
      ]
     },
     "metadata": {},
     "output_type": "display_data"
    }
   ],
   "source": [
    "# Critical exponents script\n",
    "\n",
    "slope,crit=critical(size_grid,phi,'Susceptibility',T)\n",
    "\n"
   ]
  },
  {
   "cell_type": "code",
   "execution_count": null,
   "metadata": {
    "collapsed": true
   },
   "outputs": [],
   "source": []
  }
 ],
 "metadata": {
  "kernelspec": {
   "display_name": "Python 3",
   "language": "python",
   "name": "python3"
  },
  "language_info": {
   "codemirror_mode": {
    "name": "ipython",
    "version": 3
   },
   "file_extension": ".py",
   "mimetype": "text/x-python",
   "name": "python",
   "nbconvert_exporter": "python",
   "pygments_lexer": "ipython3",
   "version": "3.5.1"
  }
 },
 "nbformat": 4,
 "nbformat_minor": 0
}
